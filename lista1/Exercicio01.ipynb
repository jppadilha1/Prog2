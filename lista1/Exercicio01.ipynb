{
 "cells": [
  {
   "cell_type": "markdown",
   "metadata": {},
   "source": [
    "## Lista de exercícios 01"
   ]
  },
  {
   "cell_type": "markdown",
   "metadata": {},
   "source": [
    "### Exercício 1: Variáveis e Strings\n",
    "**Objetivo:** Praticar a criação de variáveis e o uso de strings.\n",
    "1. Crie uma variável chamada `nome` e atribua a ela o seu nome como uma string.\n",
    "2. Crie uma variável chamada `cidade` e atribua a ela o nome da sua cidade como uma string.\n",
    "3. Imprima uma mensagem de boas-vindas que use ambas as variáveis, como \"Olá, [nome]! Bem-vindo(a) à [cidade]!\"."
   ]
  },
  {
   "cell_type": "code",
   "execution_count": 4,
   "metadata": {},
   "outputs": [
    {
     "name": "stdout",
     "output_type": "stream",
     "text": [
      "Olá, João Pedro! Bem-vindo(a) à Elói Mendes\n"
     ]
    }
   ],
   "source": [
    "nome = \"João Pedro\"\n",
    "cidade = \"Elói Mendes\"\n",
    "print(f\"Olá, {nome}! Bem-vindo(a) à {cidade}\")"
   ]
  },
  {
   "cell_type": "markdown",
   "metadata": {},
   "source": [
    "### Exercício 2: Operações com Números\n",
    "**Objetivo:** Praticar a utilização de variáveis numéricas e realizar operações básicas.\n",
    "\n",
    "1. Crie duas variáveis, `numero1` e `numero2`, e atribua valores numéricos a elas.\n",
    "2. Calcule a soma, subtração, multiplicação e divisão de `numero1` por `numero2`. Armazene cada resultado em variáveis distintas.\n",
    "3. Imprima os resultados das operações com uma descrição adequada, por exemplo: \"A soma de numero1 e numero2 é [resultado].\"."
   ]
  },
  {
   "cell_type": "code",
   "execution_count": 7,
   "metadata": {},
   "outputs": [
    {
     "name": "stdout",
     "output_type": "stream",
     "text": [
      "Soma: 3 + 4 = 7\n",
      "Subtração: 3 - 4 = -1\n",
      "Multiplicação: 3 x 4 = 12\n",
      "Divisão: 3 / 4 = 0.75\n"
     ]
    }
   ],
   "source": [
    "n1 = 3\n",
    "n2 = 4\n",
    "soma = n1 + n2\n",
    "subtracao = n1 - n2\n",
    "multiplicacao = n1 * n2\n",
    "divisao = n1 / n2\n",
    "print(f\"Soma: {n1} + {n2} = {soma}\\nSubtração: {n1} - {n2} = {subtracao}\\nMultiplicação: {n1} x {n2} = {multiplicacao}\\nDivisão: {n1} / {n2} = {divisao}\") "
   ]
  },
  {
   "cell_type": "markdown",
   "metadata": {},
   "source": [
    "### Exercício 3: Conversão de Tipos\n",
    "**Objetivo:** Praticar a conversão entre tipos de dados.\n",
    "\n",
    "1. Crie uma variável `numero_string` e atribua a ela um número como uma string, por exemplo, \"1234\".\n",
    "2. Converta `numero_string` para um tipo inteiro e armazene o resultado em uma nova variável chamada `numero_int`.\n",
    "3. Multiplique `numero_int` por 2 e imprima o resultado."
   ]
  },
  {
   "cell_type": "code",
   "execution_count": 8,
   "metadata": {},
   "outputs": [
    {
     "name": "stdout",
     "output_type": "stream",
     "text": [
      "56\n"
     ]
    }
   ],
   "source": [
    "numero_string = \"28\"\n",
    "numero_int = int(numero_string) * 2\n",
    "print(numero_int)"
   ]
  },
  {
   "cell_type": "markdown",
   "metadata": {},
   "source": [
    "### Exercício 4: Trabalhando com Booleanos\n",
    "**Objetivo:** Entender o uso de variáveis booleanas e expressões lógicas.\n",
    "\n",
    "1. Crie duas variáveis booleanas, `verdadeiro` e `falso`, atribuindo os valores `True` e `False`, respectivamente.\n",
    "2. Crie uma expressão que use operadores lógicos (`and`, `or`, `not`) com essas variáveis e determine o resultado da expressão.\n",
    "3. Imprima o resultado da expressão lógica."
   ]
  },
  {
   "cell_type": "code",
   "execution_count": 11,
   "metadata": {},
   "outputs": [
    {
     "name": "stdout",
     "output_type": "stream",
     "text": [
      "False\n",
      "True\n",
      "False\n"
     ]
    }
   ],
   "source": [
    "verdadeiro = True\n",
    "falso = False\n",
    "print(verdadeiro and falso)\n",
    "print(verdadeiro or falso)\n",
    "print(not(verdadeiro))"
   ]
  },
  {
   "cell_type": "markdown",
   "metadata": {},
   "source": [
    "### Exercício 5: Manipulação de Strings\n",
    "**Objetivo:** Praticar operações básicas com strings.\n",
    "\n",
    "1. Crie uma variável `frase` com o valor \"Python é muito divertido!\".\n",
    "2. Utilize o slicing (fatiamento) para extrair a palavra \"Python\" da frase.\n",
    "3. Converta a palavra \"Python\" para maiúsculas e imprima o resultado.\n",
    "4. Substitua a palavra \"divertido\" por \"poderoso\" na `frase` e imprima a nova frase."
   ]
  },
  {
   "cell_type": "code",
   "execution_count": 28,
   "metadata": {},
   "outputs": [
    {
     "name": "stdout",
     "output_type": "stream",
     "text": [
      "PYTHON\n",
      "Python é muito Poderoso!\n"
     ]
    }
   ],
   "source": [
    "frase = \"Python é muito Divertido!\"\n",
    "frase_fatiada = frase.split()\n",
    "print(frase_fatiada[0].upper())\n",
    "frase_fatiada[3] = \"Poderoso!\"\n",
    "print(' '.join(frase_fatiada))"
   ]
  },
  {
   "cell_type": "markdown",
   "metadata": {},
   "source": [
    "### Exercício 6: Função com Argumentos\n",
    "**Objetivo:** Aprender a definir funções que recebam argumentos.\n",
    "\n",
    "1. Defina uma função chamada `cumprimentar_por_nome` que aceite um nome como argumento e imprima \"Olá, [nome]!\".\n",
    "2. Chame a função `cumprimentar_por_nome`, passando seu próprio nome como argumento.\n"
   ]
  },
  {
   "cell_type": "code",
   "execution_count": 29,
   "metadata": {},
   "outputs": [
    {
     "name": "stdout",
     "output_type": "stream",
     "text": [
      "Olá, Jorgin!\n"
     ]
    }
   ],
   "source": [
    "def cumprimentar_por_nome(nome):\n",
    "    print(f\"Olá, {nome}!\")\n",
    "\n",
    "cumprimentar_por_nome(\"Jorgin\")\n"
   ]
  },
  {
   "cell_type": "markdown",
   "metadata": {},
   "source": [
    "### Exercício 7: Função com Valor de Retorno\n",
    "**Objetivo:** Praticar a criação de funções que retornam valores.\n",
    "\n",
    "1. Defina uma função chamada `soma` que aceite dois números como argumentos e retorne a soma deles.\n",
    "2. Chame a função `soma`, passando dois números de sua escolha como argumentos, e imprima o resultado.\n"
   ]
  },
  {
   "cell_type": "code",
   "execution_count": 30,
   "metadata": {},
   "outputs": [
    {
     "data": {
      "text/plain": [
       "1072"
      ]
     },
     "execution_count": 30,
     "metadata": {},
     "output_type": "execute_result"
    }
   ],
   "source": [
    "def soma(n1, n2):\n",
    "    return n1 + n2\n",
    "\n",
    "soma(483,589)"
   ]
  },
  {
   "cell_type": "markdown",
   "metadata": {},
   "source": [
    "### Exercício 8: Função com Múltiplos Retornos\n",
    "**Objetivo:** Entender como retornar múltiplos valores de uma função.\n",
    "\n",
    "1. Defina uma função chamada `operacoes_basicas` que aceite dois números e retorne a soma, subtração, multiplicação e divisão deles.\n",
    "2. Chame a função `operacoes_basicas`, passando dois números como argumentos, e imprima os resultados retornados.\n"
   ]
  },
  {
   "cell_type": "code",
   "execution_count": 19,
   "metadata": {},
   "outputs": [
    {
     "name": "stdout",
     "output_type": "stream",
     "text": [
      "{'sum': 3, 'sub': -1, 'mult': 2, 'divi': 0.5}\n"
     ]
    }
   ],
   "source": [
    "def operacoes_basicas(x,y):\n",
    "    operacoes = {'sum': x+y, 'sub': x-y, 'mult':x*y, 'divi': x/y}\n",
    "    return operacoes\n",
    "print(operacoes_basicas(1,2))"
   ]
  },
  {
   "cell_type": "markdown",
   "metadata": {},
   "source": [
    "### Exercício 9: Função Recursiva\n",
    "**Objetivo:** Praticar a definição de funções recursivas.\n",
    "\n",
    "1. Defina uma função chamada `fatorial` que calcule o fatorial de um número fornecido como argumento. Lembre-se de que o fatorial de um número n é o produto de todos os inteiros positivos menores ou iguais a n (e que o fatorial de 0 é 1).\n",
    "2. Chame a função `fatorial`, passando um número de sua escolha como argumento, e imprima o resultado."
   ]
  },
  {
   "cell_type": "code",
   "execution_count": 11,
   "metadata": {},
   "outputs": [
    {
     "data": {
      "text/plain": [
       "3628800"
      ]
     },
     "execution_count": 11,
     "metadata": {},
     "output_type": "execute_result"
    }
   ],
   "source": [
    "def fatorial(n):\n",
    "    f = 1\n",
    "    if(n == 0):\n",
    "        return 1\n",
    "    for i in range(1,(n+1),1): #range(start, stop, step)\n",
    "        i = i * (f)\n",
    "        f = i\n",
    "    return f\n",
    "\n",
    "fatorial(10)\n",
    "     "
   ]
  },
  {
   "cell_type": "markdown",
   "metadata": {},
   "source": [
    "### Exercício 10: Listas\n",
    "**Objetivo:** Praticar operações básicas com listas.\n",
    "\n",
    "1. Crie uma lista chamada `frutas` contendo \"maçã\", \"banana\" e \"cereja\".\n",
    "2. Adicione \"laranja\" ao final da lista.\n",
    "3. Acesse e imprima o segundo item da lista.\n",
    "4. Remova \"banana\" da lista.\n",
    "5. Imprima a lista inteira."
   ]
  },
  {
   "cell_type": "code",
   "execution_count": 38,
   "metadata": {},
   "outputs": [
    {
     "name": "stdout",
     "output_type": "stream",
     "text": [
      "banana\n",
      "['maçâ', 'cereja', 'laranja']\n"
     ]
    }
   ],
   "source": [
    "frutas = [\"maçâ\", \"banana\", \"cereja\"]\n",
    "frutas.append(\"laranja\")\n",
    "print(frutas[1])\n",
    "frutas.remove(\"banana\")\n",
    "print(frutas)"
   ]
  },
  {
   "cell_type": "markdown",
   "metadata": {},
   "source": [
    "\n",
    "### Exercício 11: Tuplas\n",
    "**Objetivo:** Entender a imutabilidade das tuplas.\n",
    "\n",
    "1. Crie uma tupla chamada `coordenadas` com valores (4, 5).\n",
    "2. Tente alterar o primeiro valor da tupla para 10 (Isso deve resultar em um erro).\n",
    "3. Acesse e imprima o segundo valor da tupla.\n"
   ]
  },
  {
   "cell_type": "code",
   "execution_count": 43,
   "metadata": {},
   "outputs": [
    {
     "name": "stdout",
     "output_type": "stream",
     "text": [
      "5\n"
     ]
    }
   ],
   "source": [
    "coordenadas = (4,5)\n",
    "# coordenadas[0] = 10\n",
    "print(coordenadas[1])"
   ]
  },
  {
   "cell_type": "markdown",
   "metadata": {},
   "source": [
    "### Exercício 12: Conjuntos (Sets)\n",
    "**Objetivo:** Praticar operações com conjuntos.\n",
    "\n",
    "1. Crie um conjunto chamado `cores` contendo \"vermelho\", \"azul\" e \"verde\".\n",
    "2. Adicione \"amarelo\" ao conjunto.\n",
    "3. Tente adicionar \"azul\" novamente ao conjunto e observe o que acontece.\n",
    "4. Remova \"verde\" do conjunto.\n",
    "5. Verifique se \"vermelho\" está presente no conjunto e imprima o resultado.\n"
   ]
  },
  {
   "cell_type": "code",
   "execution_count": 56,
   "metadata": {},
   "outputs": [
    {
     "name": "stdout",
     "output_type": "stream",
     "text": [
      "{'Azul', 'Vermelho', 'Amarelo', 'Verde'}\n",
      "{'Azul', 'Vermelho', 'Amarelo'}\n"
     ]
    }
   ],
   "source": [
    "cores = {\"Vermelho\", \"Azul\", \"Verde\"}\n",
    "cores.add(\"Amarelo\")\n",
    "cores.add(\"Azul\")\n",
    "print(cores)\n",
    "cores.remove(\"Verde\")\n",
    "print(cores)"
   ]
  },
  {
   "cell_type": "markdown",
   "metadata": {},
   "source": [
    "### Exercício 13: Dicionários\n",
    "**Objetivo:** Praticar a criação e manipulação de dicionários.\n",
    "\n",
    "1. Crie um dicionário chamado `pessoa` com as chaves \"nome\" e \"idade\", atribuindo valores apropriados a elas.\n",
    "2. Adicione uma nova chave \"cidade\" com um valor correspondente ao dicionário.\n",
    "3. Acesse e imprima o valor associado à chave \"nome\".\n",
    "4. Altere o valor associado à chave \"idade\".\n",
    "5. Remova o par chave-valor \"cidade\" do dicionário.\n",
    "6. Imprima o dicionário inteiro."
   ]
  },
  {
   "cell_type": "code",
   "execution_count": 69,
   "metadata": {},
   "outputs": [
    {
     "name": "stdout",
     "output_type": "stream",
     "text": [
      "Joao\n",
      "{'nome': 'Joao', 'idade': 20}\n"
     ]
    }
   ],
   "source": [
    "pessoa = {'nome': 'Joao', 'idade': 19}\n",
    "pessoa.update({'cidade':'Mutuca'})\n",
    "print(pessoa['nome'])\n",
    "pessoa['idade'] = 20\n",
    "pessoa.pop('cidade')\n",
    "print(pessoa)"
   ]
  },
  {
   "cell_type": "markdown",
   "metadata": {},
   "source": [
    "### Exercício 14: Listas\n",
    "**Objetivo:** Praticar a manipulação de listas com uma aplicação de lista de compras.\n",
    "\n",
    "1. Você tem uma lista inicial de compras chamada `lista_de_compras` contendo os seguintes itens: \"leite\", \"pão\", \"maçã\" e \"banana\".\n",
    "2. Um amigo seu pediu para adicionar \"cereal\" e \"mel\" à lista.\n",
    "3. No caminho para o supermercado, você lembra que já tem \"maçã\" em casa. Remova este item da lista.\n",
    "4. No supermercado, você decide que quer \"banana\" e \"pão\" em dobro. Encontre uma forma de atualizar esses itens na lista.\n",
    "5. Ao final, ordene a lista alfabeticamente e imprima-a.\n"
   ]
  },
  {
   "cell_type": "code",
   "execution_count": 87,
   "metadata": {},
   "outputs": [
    {
     "name": "stdout",
     "output_type": "stream",
     "text": [
      "['Leite', 'Dobro de Pão', 'Dobro de Banana', 'Cereal', 'Mel']\n"
     ]
    }
   ],
   "source": [
    "lista_de_compras = [\"Leite\", \"Pão\", \"Maçâ\", \"Banana\"]\n",
    "lista_de_compras.append(\"Cereal\")\n",
    "lista_de_compras.append(\"Mel\")\n",
    "lista_de_compras.remove(\"Maçâ\")\n",
    "lista_de_compras[1] = \"Dobro de Pão\"\n",
    "lista_de_compras[2] = \"Dobro de Banana\"\n",
    "print(lista_de_compras)"
   ]
  },
  {
   "cell_type": "markdown",
   "metadata": {},
   "source": [
    "### Exercício 15: Tuplas\n",
    "**Objetivo:** Explorar a imutabilidade das tuplas com um exemplo de coordenadas geográficas.\n",
    "\n",
    "1. Você tem uma tupla `coordenadas` com três pontos representando coordenadas (latitude, longitude) de locais diferentes: (23.5, 45.2), (42.1, 22.3), e (55.1, 13.7).\n",
    "2. Seu objetivo é imprimir cada coordenada, mas você precisa formatá-las como \"Latitude: [valor], Longitude: [valor]\".\n",
    "3. Discuta por que a tupla é uma escolha adequada para armazenar esses dados.\n"
   ]
  },
  {
   "cell_type": "code",
   "execution_count": 14,
   "metadata": {},
   "outputs": [
    {
     "name": "stdout",
     "output_type": "stream",
     "text": [
      "Coordenada1: Latitude=23.5, Longitude=45.2\n",
      "Coordenada2: Latitude=42.1, Longitude=22.3\n",
      "Coordenada3: Latitude=55.1, Longitude=13.7\n"
     ]
    }
   ],
   "source": [
    "coordenada1 = (23.5, 45.2)\n",
    "coordenada2 = (42.1, 22.3)\n",
    "coordenada3 = (55.1, 13.7)\n",
    "\n",
    "print(f\"Coordenada1: Latitude={coordenada1[0]}, Longitude={coordenada1[1]}\")\n",
    "print(f\"Coordenada2: Latitude={coordenada2[0]}, Longitude={coordenada2[1]}\")\n",
    "print(f\"Coordenada3: Latitude={coordenada3[0]}, Longitude={coordenada3[1]}\")"
   ]
  },
  {
   "cell_type": "markdown",
   "metadata": {},
   "source": [
    "### Exercício 16: Conjuntos\n",
    "**Objetivo:** Praticar operações avançadas com conjuntos usando dois conjuntos de números.\n",
    "\n",
    "1. Dado dois conjuntos `conjunto_a` = {1, 2, 3, 4, 5} e `conjunto_b` = {4, 5, 6, 7, 8}, encontre a união, interseção, diferença e diferença simétrica entre eles.\n",
    "2. Imprima cada um dos resultados obtidos nas operações acima.\n"
   ]
  },
  {
   "cell_type": "code",
   "execution_count": 90,
   "metadata": {},
   "outputs": [
    {
     "name": "stdout",
     "output_type": "stream",
     "text": [
      "União:{1, 2, 3, 4, 5, 6, 7, 8}\n",
      "Interseção:{4, 5}\n",
      "Diferença:{1, 2, 3}\n",
      "Diferença Simétrica:{1, 2, 3, 6, 7, 8}\n"
     ]
    }
   ],
   "source": [
    "conjunto_a = {1,2,3,4,5}\n",
    "conjunto_b = {4,5,6,7,8}\n",
    "\n",
    "uniao = conjunto_a | conjunto_b\n",
    "interseçao = conjunto_a & conjunto_b\n",
    "diferença = conjunto_a - conjunto_b\n",
    "diferença_simetrica = (conjunto_a | conjunto_b) - (conjunto_a & conjunto_b)\n",
    "\n",
    "print(f\"União:{uniao}\\nInterseção:{interseçao}\\nDiferença:{diferença}\\nDiferença Simétrica:{diferença_simetrica}\")"
   ]
  },
  {
   "cell_type": "markdown",
   "metadata": {},
   "source": [
    "### Exercício 17: Dicionários\n",
    "**Objetivo:** Manipular dicionários através de um cenário de estoque de produtos.\n",
    "\n",
    "1. Você tem um dicionário `estoque` que mapeia nomes de produtos a suas quantidades em estoque: {\"maçãs\": 30, \"bananas\": 15, \"laranjas\": 10, \"peras\": 5}.\n",
    "2. Um cliente comprou 2 maçãs, 5 bananas e 1 laranja. Atualize o estoque de acordo com esta compra.\n",
    "3. Um novo carregamento chegou, adicionando 10 maçãs e 5 peras ao estoque. Atualize o estoque.\n",
    "4. Imprima o estoque atualizado."
   ]
  },
  {
   "cell_type": "code",
   "execution_count": 88,
   "metadata": {},
   "outputs": [
    {
     "name": "stdout",
     "output_type": "stream",
     "text": [
      "{'maçãs': 38, 'bananas': 10, 'laranjas': 9, 'peras': 10}\n"
     ]
    }
   ],
   "source": [
    "estoque = {'maçãs': 30, 'bananas':15, 'laranjas':10, 'peras':5}\n",
    "estoque['maçãs'] = estoque['maçãs']-2\n",
    "estoque['bananas'] = estoque['bananas']-5\n",
    "estoque['laranjas'] = estoque['laranjas']-1\n",
    "estoque['maçãs'] = estoque['maçãs']+10\n",
    "estoque['peras'] = estoque['peras']+5\n",
    "\n",
    "print(estoque)"
   ]
  }
 ],
 "metadata": {
  "kernelspec": {
   "display_name": "venv",
   "language": "python",
   "name": "python3"
  },
  "language_info": {
   "codemirror_mode": {
    "name": "ipython",
    "version": 3
   },
   "file_extension": ".py",
   "mimetype": "text/x-python",
   "name": "python",
   "nbconvert_exporter": "python",
   "pygments_lexer": "ipython3",
   "version": "3.12.2"
  }
 },
 "nbformat": 4,
 "nbformat_minor": 2
}
